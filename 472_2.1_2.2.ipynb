{
 "cells": [
  {
   "cell_type": "code",
   "execution_count": 3,
   "id": "eb2b5e31",
   "metadata": {},
   "outputs": [],
   "source": [
    "import json\n",
    "import numpy as np\n",
    "import pandas as pd\n",
    "\n",
    "from sklearn.feature_extraction.text import CountVectorizer\n",
    "from sklearn.model_selection import train_test_split\n",
    "\n",
    "data_file = open('goemotions.json')\n",
    "data = json.load(data_file)"
   ]
  },
  {
   "cell_type": "code",
   "execution_count": 4,
   "id": "aef498f3",
   "metadata": {},
   "outputs": [],
   "source": [
    "#Collecting the words and their frequencies\n",
    "tokens = []\n",
    "\n",
    "\n",
    "for lists in data:\n",
    "    for text in lists[:1]:\n",
    "        tokens.append(text)\n",
    "        \n",
    "cv = CountVectorizer()\n",
    "        \n",
    "c_arr = cv.fit(tokens)\n",
    "#print(\"Vocabulary: \", cv.vocabulary_) -\n",
    "#Prints out the vocabulary, commenting it out because it takes up the whole page on github"
   ]
  },
  {
   "cell_type": "code",
   "execution_count": 5,
   "id": "8437a0f6",
   "metadata": {},
   "outputs": [
    {
     "name": "stdout",
     "output_type": "stream",
     "text": [
      "30449\n"
     ]
    }
   ],
   "source": [
    "#Printing the size of the vocabulary\n",
    "print(len(cv.vocabulary_))"
   ]
  },
  {
   "cell_type": "code",
   "execution_count": 6,
   "id": "71f06702",
   "metadata": {},
   "outputs": [],
   "source": [
    "#Converting Json array to Numpy Array\n",
    "npData = np.array(data)"
   ]
  },
  {
   "cell_type": "code",
   "execution_count": 7,
   "id": "7cac618b",
   "metadata": {},
   "outputs": [],
   "source": [
    "#Splitting the data in two halves\n",
    "train_data, test_data = train_test_split(npData, test_size=0.2, train_size=0.8, shuffle=False)"
   ]
  },
  {
   "cell_type": "code",
   "execution_count": 10,
   "id": "dafca4d0",
   "metadata": {},
   "outputs": [
    {
     "name": "stdout",
     "output_type": "stream",
     "text": [
      "[['That game hurt.' 'sadness' 'negative']\n",
      " [\"You do right, if you don't care then fuck 'em!\" 'neutral' 'neutral']\n",
      " ['Man I love reddit.' 'love' 'positive']\n",
      " ['[NAME] was nowhere near them, he was by the Falcon. ' 'neutral'\n",
      "  'neutral']\n",
      " ['Right? Considering it’s such an important document, I should know the damned thing backwards and forwards... thanks again for the help!'\n",
      "  'gratitude' 'positive']\n",
      " [\"He isn't as big, but he's still quite popular. I've heard the same thing about his content. Never watched him much.\"\n",
      "  'disapproval' 'negative']\n",
      " [\"That's crazy; I went to a super [RELIGION] high school and I think I can remember 2 girls the entire 4 years that became teen moms.\"\n",
      "  'amusement' 'positive']\n",
      " [\"that's adorable asf\" 'amusement' 'positive']\n",
      " ['\"Sponge Blurb Pubs Quaw Haha GURR ha AAa!\" finale is too real'\n",
      "  'amusement' 'positive']\n",
      " [\"I have, and now that you mention it, I think that's what triggered my nostalgia. \"\n",
      "  'neutral' 'neutral']\n",
      " [\"I wanted to downvote this, but it's not your fault homie.\"\n",
      "  'disappointment' 'negative']\n",
      " [\"BUT IT'S HER TURN! /s\" 'neutral' 'neutral']\n",
      " ['Build a wall? /jk' 'neutral' 'neutral']]\n",
      "137456\n"
     ]
    }
   ],
   "source": [
    "print(train_data[0:13])\n",
    "print(len(train_data))"
   ]
  },
  {
   "cell_type": "code",
   "execution_count": 11,
   "id": "bfc42421",
   "metadata": {},
   "outputs": [
    {
     "name": "stdout",
     "output_type": "stream",
     "text": [
      "[['I did this and I regret nothing.' 'approval' 'positive']\n",
      " ['You mean 4 of 5 dates for you already this month. Wow - do tell!'\n",
      "  'surprise' 'ambiguous']\n",
      " ['“Why are you complaining, every team would’ve signed this guy”'\n",
      "  'annoyance' 'negative']\n",
      " ['I regret this post so hard so much debate and anger lol' 'grief'\n",
      "  'negative']\n",
      " ['Minor league team names are often embarrassing...Biscuits, Rumble Ponies, Sand Gnats. Baby Cakes is particularly awful though, I’ll grant you that.'\n",
      "  'disgust' 'negative']\n",
      " ['I just want to note that \"Live Photo\" is something how I\\'d expect [NAME] describe a video.'\n",
      "  'desire' 'positive']\n",
      " [\"That's until a golden retriever runs for office. Humans can't be trusted\"\n",
      "  'annoyance' 'negative']\n",
      " ['Is it bad that im really bummed he didnt get hit?' 'disappointment'\n",
      "  'negative']\n",
      " ['W-what a great audience' 'gratitude' 'positive']\n",
      " [\"Yeah you're right. That's the problem. Not guys thinking it's ok to message someone they haven't matched with outside of Tinder.\"\n",
      "  'approval' 'positive']\n",
      " ['5,000 years ago.' 'neutral' 'neutral']\n",
      " [\"Oh... I read that the fedora made her sweaty... I can't imagine head wear making someone moist. But hey, there's something for everyone.\"\n",
      "  'embarrassment' 'negative']\n",
      " ['Yes! Wonder how tall the girls will end up 😂' 'neutral' 'neutral']]\n",
      "34364\n"
     ]
    }
   ],
   "source": [
    "print(test_data[0:13])\n",
    "print(len(test_data))"
   ]
  },
  {
   "cell_type": "code",
   "execution_count": null,
   "id": "60165477",
   "metadata": {},
   "outputs": [],
   "source": []
  }
 ],
 "metadata": {
  "kernelspec": {
   "display_name": "Python 3 (ipykernel)",
   "language": "python",
   "name": "python3"
  },
  "language_info": {
   "codemirror_mode": {
    "name": "ipython",
    "version": 3
   },
   "file_extension": ".py",
   "mimetype": "text/x-python",
   "name": "python",
   "nbconvert_exporter": "python",
   "pygments_lexer": "ipython3",
   "version": "3.8.10"
  }
 },
 "nbformat": 4,
 "nbformat_minor": 5
}
