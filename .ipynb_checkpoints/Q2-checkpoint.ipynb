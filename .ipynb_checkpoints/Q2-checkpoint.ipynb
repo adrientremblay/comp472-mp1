{
 "cells": [
  {
   "cell_type": "code",
   "execution_count": 1,
   "metadata": {},
   "outputs": [],
   "source": [
    "import json\n",
    "import numpy as np\n",
    "import pandas as pd\n",
    "\n",
    "from sklearn.feature_extraction.text import CountVectorizer\n",
    "from sklearn.model_selection import train_test_split"
   ]
  },
  {
   "cell_type": "code",
   "execution_count": 2,
   "metadata": {},
   "outputs": [],
   "source": [
    "data_file = open('goemotions.json')\n",
    "data = np.array(json.load(data_file))\n",
    "\n",
    "sentences = data[:, 0]\n",
    "y_emotions = data[:, 1]\n",
    "y_sentiments = data[:, 2]"
   ]
  },
  {
   "cell_type": "markdown",
   "metadata": {},
   "source": [
    "# 2.1 Collecting the words and their frequencies"
   ]
  },
  {
   "cell_type": "code",
   "execution_count": 3,
   "metadata": {},
   "outputs": [],
   "source": [
    "cv = CountVectorizer(analyzer='word')\n",
    "X = cv.fit_transform(sentences)"
   ]
  },
  {
   "cell_type": "code",
   "execution_count": null,
   "metadata": {},
   "outputs": [],
   "source": [
    "# size of the vocabulary\n",
    "print(len(cv.vocabulary_))"
   ]
  },
  {
   "cell_type": "markdown",
   "metadata": {},
   "source": [
    "# 2.2 Splitting the data in training and test sets"
   ]
  },
  {
   "cell_type": "code",
   "execution_count": 5,
   "metadata": {},
   "outputs": [],
   "source": [
    "X_training, X_testing, y_training_emotions, y_testing_emotions, y_training_sentiments, y_testing_sentiments = train_test_split(X, y_emotions, y_sentiments, test_size=0.2, train_size=0.8, shuffle=False)"
   ]
  },
  {
   "cell_type": "markdown",
   "metadata": {},
   "source": [
    "# 2.3.1 Base Multinomial Naive Bayes classifier"
   ]
  },
  {
   "cell_type": "code",
   "execution_count": 6,
   "metadata": {},
   "outputs": [
    {
     "data": {
      "text/html": [
       "<style>#sk-container-id-1 {color: black;background-color: white;}#sk-container-id-1 pre{padding: 0;}#sk-container-id-1 div.sk-toggleable {background-color: white;}#sk-container-id-1 label.sk-toggleable__label {cursor: pointer;display: block;width: 100%;margin-bottom: 0;padding: 0.3em;box-sizing: border-box;text-align: center;}#sk-container-id-1 label.sk-toggleable__label-arrow:before {content: \"▸\";float: left;margin-right: 0.25em;color: #696969;}#sk-container-id-1 label.sk-toggleable__label-arrow:hover:before {color: black;}#sk-container-id-1 div.sk-estimator:hover label.sk-toggleable__label-arrow:before {color: black;}#sk-container-id-1 div.sk-toggleable__content {max-height: 0;max-width: 0;overflow: hidden;text-align: left;background-color: #f0f8ff;}#sk-container-id-1 div.sk-toggleable__content pre {margin: 0.2em;color: black;border-radius: 0.25em;background-color: #f0f8ff;}#sk-container-id-1 input.sk-toggleable__control:checked~div.sk-toggleable__content {max-height: 200px;max-width: 100%;overflow: auto;}#sk-container-id-1 input.sk-toggleable__control:checked~label.sk-toggleable__label-arrow:before {content: \"▾\";}#sk-container-id-1 div.sk-estimator input.sk-toggleable__control:checked~label.sk-toggleable__label {background-color: #d4ebff;}#sk-container-id-1 div.sk-label input.sk-toggleable__control:checked~label.sk-toggleable__label {background-color: #d4ebff;}#sk-container-id-1 input.sk-hidden--visually {border: 0;clip: rect(1px 1px 1px 1px);clip: rect(1px, 1px, 1px, 1px);height: 1px;margin: -1px;overflow: hidden;padding: 0;position: absolute;width: 1px;}#sk-container-id-1 div.sk-estimator {font-family: monospace;background-color: #f0f8ff;border: 1px dotted black;border-radius: 0.25em;box-sizing: border-box;margin-bottom: 0.5em;}#sk-container-id-1 div.sk-estimator:hover {background-color: #d4ebff;}#sk-container-id-1 div.sk-parallel-item::after {content: \"\";width: 100%;border-bottom: 1px solid gray;flex-grow: 1;}#sk-container-id-1 div.sk-label:hover label.sk-toggleable__label {background-color: #d4ebff;}#sk-container-id-1 div.sk-serial::before {content: \"\";position: absolute;border-left: 1px solid gray;box-sizing: border-box;top: 0;bottom: 0;left: 50%;z-index: 0;}#sk-container-id-1 div.sk-serial {display: flex;flex-direction: column;align-items: center;background-color: white;padding-right: 0.2em;padding-left: 0.2em;position: relative;}#sk-container-id-1 div.sk-item {position: relative;z-index: 1;}#sk-container-id-1 div.sk-parallel {display: flex;align-items: stretch;justify-content: center;background-color: white;position: relative;}#sk-container-id-1 div.sk-item::before, #sk-container-id-1 div.sk-parallel-item::before {content: \"\";position: absolute;border-left: 1px solid gray;box-sizing: border-box;top: 0;bottom: 0;left: 50%;z-index: -1;}#sk-container-id-1 div.sk-parallel-item {display: flex;flex-direction: column;z-index: 1;position: relative;background-color: white;}#sk-container-id-1 div.sk-parallel-item:first-child::after {align-self: flex-end;width: 50%;}#sk-container-id-1 div.sk-parallel-item:last-child::after {align-self: flex-start;width: 50%;}#sk-container-id-1 div.sk-parallel-item:only-child::after {width: 0;}#sk-container-id-1 div.sk-dashed-wrapped {border: 1px dashed gray;margin: 0 0.4em 0.5em 0.4em;box-sizing: border-box;padding-bottom: 0.4em;background-color: white;}#sk-container-id-1 div.sk-label label {font-family: monospace;font-weight: bold;display: inline-block;line-height: 1.2em;}#sk-container-id-1 div.sk-label-container {text-align: center;}#sk-container-id-1 div.sk-container {/* jupyter's `normalize.less` sets `[hidden] { display: none; }` but bootstrap.min.css set `[hidden] { display: none !important; }` so we also need the `!important` here to be able to override the default hidden behavior on the sphinx rendered scikit-learn.org. See: https://github.com/scikit-learn/scikit-learn/issues/21755 */display: inline-block !important;position: relative;}#sk-container-id-1 div.sk-text-repr-fallback {display: none;}</style><div id=\"sk-container-id-1\" class=\"sk-top-container\"><div class=\"sk-text-repr-fallback\"><pre>MultinomialNB()</pre><b>In a Jupyter environment, please rerun this cell to show the HTML representation or trust the notebook. <br />On GitHub, the HTML representation is unable to render, please try loading this page with nbviewer.org.</b></div><div class=\"sk-container\" hidden><div class=\"sk-item\"><div class=\"sk-estimator sk-toggleable\"><input class=\"sk-toggleable__control sk-hidden--visually\" id=\"sk-estimator-id-1\" type=\"checkbox\" checked><label for=\"sk-estimator-id-1\" class=\"sk-toggleable__label sk-toggleable__label-arrow\">MultinomialNB</label><div class=\"sk-toggleable__content\"><pre>MultinomialNB()</pre></div></div></div></div></div>"
      ],
      "text/plain": [
       "MultinomialNB()"
      ]
     },
     "execution_count": 6,
     "metadata": {},
     "output_type": "execute_result"
    }
   ],
   "source": [
    "from sklearn.naive_bayes import MultinomialNB\n",
    "\n",
    "mnb_classifer_emotions = MultinomialNB()\n",
    "mnb_classifer_emotions.fit(X_training, y_training_emotions)\n",
    "\n",
    "mnb_classifer_sentiments = MultinomialNB()\n",
    "mnb_classifer_sentiments.fit(X_training, y_training_sentiments)"
   ]
  },
  {
   "cell_type": "markdown",
   "metadata": {},
   "source": [
    "# 2.3.2 Base Decision Tree"
   ]
  },
  {
   "cell_type": "code",
   "execution_count": 8,
   "metadata": {},
   "outputs": [
    {
     "data": {
      "text/html": [
       "<style>#sk-container-id-2 {color: black;background-color: white;}#sk-container-id-2 pre{padding: 0;}#sk-container-id-2 div.sk-toggleable {background-color: white;}#sk-container-id-2 label.sk-toggleable__label {cursor: pointer;display: block;width: 100%;margin-bottom: 0;padding: 0.3em;box-sizing: border-box;text-align: center;}#sk-container-id-2 label.sk-toggleable__label-arrow:before {content: \"▸\";float: left;margin-right: 0.25em;color: #696969;}#sk-container-id-2 label.sk-toggleable__label-arrow:hover:before {color: black;}#sk-container-id-2 div.sk-estimator:hover label.sk-toggleable__label-arrow:before {color: black;}#sk-container-id-2 div.sk-toggleable__content {max-height: 0;max-width: 0;overflow: hidden;text-align: left;background-color: #f0f8ff;}#sk-container-id-2 div.sk-toggleable__content pre {margin: 0.2em;color: black;border-radius: 0.25em;background-color: #f0f8ff;}#sk-container-id-2 input.sk-toggleable__control:checked~div.sk-toggleable__content {max-height: 200px;max-width: 100%;overflow: auto;}#sk-container-id-2 input.sk-toggleable__control:checked~label.sk-toggleable__label-arrow:before {content: \"▾\";}#sk-container-id-2 div.sk-estimator input.sk-toggleable__control:checked~label.sk-toggleable__label {background-color: #d4ebff;}#sk-container-id-2 div.sk-label input.sk-toggleable__control:checked~label.sk-toggleable__label {background-color: #d4ebff;}#sk-container-id-2 input.sk-hidden--visually {border: 0;clip: rect(1px 1px 1px 1px);clip: rect(1px, 1px, 1px, 1px);height: 1px;margin: -1px;overflow: hidden;padding: 0;position: absolute;width: 1px;}#sk-container-id-2 div.sk-estimator {font-family: monospace;background-color: #f0f8ff;border: 1px dotted black;border-radius: 0.25em;box-sizing: border-box;margin-bottom: 0.5em;}#sk-container-id-2 div.sk-estimator:hover {background-color: #d4ebff;}#sk-container-id-2 div.sk-parallel-item::after {content: \"\";width: 100%;border-bottom: 1px solid gray;flex-grow: 1;}#sk-container-id-2 div.sk-label:hover label.sk-toggleable__label {background-color: #d4ebff;}#sk-container-id-2 div.sk-serial::before {content: \"\";position: absolute;border-left: 1px solid gray;box-sizing: border-box;top: 0;bottom: 0;left: 50%;z-index: 0;}#sk-container-id-2 div.sk-serial {display: flex;flex-direction: column;align-items: center;background-color: white;padding-right: 0.2em;padding-left: 0.2em;position: relative;}#sk-container-id-2 div.sk-item {position: relative;z-index: 1;}#sk-container-id-2 div.sk-parallel {display: flex;align-items: stretch;justify-content: center;background-color: white;position: relative;}#sk-container-id-2 div.sk-item::before, #sk-container-id-2 div.sk-parallel-item::before {content: \"\";position: absolute;border-left: 1px solid gray;box-sizing: border-box;top: 0;bottom: 0;left: 50%;z-index: -1;}#sk-container-id-2 div.sk-parallel-item {display: flex;flex-direction: column;z-index: 1;position: relative;background-color: white;}#sk-container-id-2 div.sk-parallel-item:first-child::after {align-self: flex-end;width: 50%;}#sk-container-id-2 div.sk-parallel-item:last-child::after {align-self: flex-start;width: 50%;}#sk-container-id-2 div.sk-parallel-item:only-child::after {width: 0;}#sk-container-id-2 div.sk-dashed-wrapped {border: 1px dashed gray;margin: 0 0.4em 0.5em 0.4em;box-sizing: border-box;padding-bottom: 0.4em;background-color: white;}#sk-container-id-2 div.sk-label label {font-family: monospace;font-weight: bold;display: inline-block;line-height: 1.2em;}#sk-container-id-2 div.sk-label-container {text-align: center;}#sk-container-id-2 div.sk-container {/* jupyter's `normalize.less` sets `[hidden] { display: none; }` but bootstrap.min.css set `[hidden] { display: none !important; }` so we also need the `!important` here to be able to override the default hidden behavior on the sphinx rendered scikit-learn.org. See: https://github.com/scikit-learn/scikit-learn/issues/21755 */display: inline-block !important;position: relative;}#sk-container-id-2 div.sk-text-repr-fallback {display: none;}</style><div id=\"sk-container-id-2\" class=\"sk-top-container\"><div class=\"sk-text-repr-fallback\"><pre>DecisionTreeClassifier()</pre><b>In a Jupyter environment, please rerun this cell to show the HTML representation or trust the notebook. <br />On GitHub, the HTML representation is unable to render, please try loading this page with nbviewer.org.</b></div><div class=\"sk-container\" hidden><div class=\"sk-item\"><div class=\"sk-estimator sk-toggleable\"><input class=\"sk-toggleable__control sk-hidden--visually\" id=\"sk-estimator-id-2\" type=\"checkbox\" checked><label for=\"sk-estimator-id-2\" class=\"sk-toggleable__label sk-toggleable__label-arrow\">DecisionTreeClassifier</label><div class=\"sk-toggleable__content\"><pre>DecisionTreeClassifier()</pre></div></div></div></div></div>"
      ],
      "text/plain": [
       "DecisionTreeClassifier()"
      ]
     },
     "execution_count": 8,
     "metadata": {},
     "output_type": "execute_result"
    }
   ],
   "source": [
    "from sklearn import tree\n",
    "dt_classifer_emotions = tree.DecisionTreeClassifier()\n",
    "dt_classifer_emotions.fit(X_training, y_training_emotions)\n",
    "\n",
    "dt_classifer_sentiments = tree.DecisionTreeClassifier()\n",
    "dt_classifer_sentiments.fit(X_training, y_training_sentiments)"
   ]
  },
  {
   "cell_type": "markdown",
   "metadata": {},
   "source": [
    "# 2.3.4 Optimized Naive Bayes Classifier"
   ]
  },
  {
   "cell_type": "code",
   "execution_count": 12,
   "metadata": {},
   "outputs": [
    {
     "name": "stderr",
     "output_type": "stream",
     "text": [
      "/home/adrien/.local/lib/python3.8/site-packages/sklearn/naive_bayes.py:591: UserWarning: alpha too small will result in numeric errors, setting alpha = 1.0e-10\n",
      "  warnings.warn(\n",
      "/home/adrien/.local/lib/python3.8/site-packages/sklearn/naive_bayes.py:591: UserWarning: alpha too small will result in numeric errors, setting alpha = 1.0e-10\n",
      "  warnings.warn(\n",
      "/home/adrien/.local/lib/python3.8/site-packages/sklearn/naive_bayes.py:591: UserWarning: alpha too small will result in numeric errors, setting alpha = 1.0e-10\n",
      "  warnings.warn(\n",
      "/home/adrien/.local/lib/python3.8/site-packages/sklearn/naive_bayes.py:591: UserWarning: alpha too small will result in numeric errors, setting alpha = 1.0e-10\n",
      "  warnings.warn(\n",
      "/home/adrien/.local/lib/python3.8/site-packages/sklearn/naive_bayes.py:591: UserWarning: alpha too small will result in numeric errors, setting alpha = 1.0e-10\n",
      "  warnings.warn(\n",
      "/home/adrien/.local/lib/python3.8/site-packages/sklearn/naive_bayes.py:591: UserWarning: alpha too small will result in numeric errors, setting alpha = 1.0e-10\n",
      "  warnings.warn(\n",
      "/home/adrien/.local/lib/python3.8/site-packages/sklearn/naive_bayes.py:591: UserWarning: alpha too small will result in numeric errors, setting alpha = 1.0e-10\n",
      "  warnings.warn(\n",
      "/home/adrien/.local/lib/python3.8/site-packages/sklearn/naive_bayes.py:591: UserWarning: alpha too small will result in numeric errors, setting alpha = 1.0e-10\n",
      "  warnings.warn(\n",
      "/home/adrien/.local/lib/python3.8/site-packages/sklearn/naive_bayes.py:591: UserWarning: alpha too small will result in numeric errors, setting alpha = 1.0e-10\n",
      "  warnings.warn(\n",
      "/home/adrien/.local/lib/python3.8/site-packages/sklearn/naive_bayes.py:591: UserWarning: alpha too small will result in numeric errors, setting alpha = 1.0e-10\n",
      "  warnings.warn(\n"
     ]
    },
    {
     "data": {
      "text/html": [
       "<style>#sk-container-id-3 {color: black;background-color: white;}#sk-container-id-3 pre{padding: 0;}#sk-container-id-3 div.sk-toggleable {background-color: white;}#sk-container-id-3 label.sk-toggleable__label {cursor: pointer;display: block;width: 100%;margin-bottom: 0;padding: 0.3em;box-sizing: border-box;text-align: center;}#sk-container-id-3 label.sk-toggleable__label-arrow:before {content: \"▸\";float: left;margin-right: 0.25em;color: #696969;}#sk-container-id-3 label.sk-toggleable__label-arrow:hover:before {color: black;}#sk-container-id-3 div.sk-estimator:hover label.sk-toggleable__label-arrow:before {color: black;}#sk-container-id-3 div.sk-toggleable__content {max-height: 0;max-width: 0;overflow: hidden;text-align: left;background-color: #f0f8ff;}#sk-container-id-3 div.sk-toggleable__content pre {margin: 0.2em;color: black;border-radius: 0.25em;background-color: #f0f8ff;}#sk-container-id-3 input.sk-toggleable__control:checked~div.sk-toggleable__content {max-height: 200px;max-width: 100%;overflow: auto;}#sk-container-id-3 input.sk-toggleable__control:checked~label.sk-toggleable__label-arrow:before {content: \"▾\";}#sk-container-id-3 div.sk-estimator input.sk-toggleable__control:checked~label.sk-toggleable__label {background-color: #d4ebff;}#sk-container-id-3 div.sk-label input.sk-toggleable__control:checked~label.sk-toggleable__label {background-color: #d4ebff;}#sk-container-id-3 input.sk-hidden--visually {border: 0;clip: rect(1px 1px 1px 1px);clip: rect(1px, 1px, 1px, 1px);height: 1px;margin: -1px;overflow: hidden;padding: 0;position: absolute;width: 1px;}#sk-container-id-3 div.sk-estimator {font-family: monospace;background-color: #f0f8ff;border: 1px dotted black;border-radius: 0.25em;box-sizing: border-box;margin-bottom: 0.5em;}#sk-container-id-3 div.sk-estimator:hover {background-color: #d4ebff;}#sk-container-id-3 div.sk-parallel-item::after {content: \"\";width: 100%;border-bottom: 1px solid gray;flex-grow: 1;}#sk-container-id-3 div.sk-label:hover label.sk-toggleable__label {background-color: #d4ebff;}#sk-container-id-3 div.sk-serial::before {content: \"\";position: absolute;border-left: 1px solid gray;box-sizing: border-box;top: 0;bottom: 0;left: 50%;z-index: 0;}#sk-container-id-3 div.sk-serial {display: flex;flex-direction: column;align-items: center;background-color: white;padding-right: 0.2em;padding-left: 0.2em;position: relative;}#sk-container-id-3 div.sk-item {position: relative;z-index: 1;}#sk-container-id-3 div.sk-parallel {display: flex;align-items: stretch;justify-content: center;background-color: white;position: relative;}#sk-container-id-3 div.sk-item::before, #sk-container-id-3 div.sk-parallel-item::before {content: \"\";position: absolute;border-left: 1px solid gray;box-sizing: border-box;top: 0;bottom: 0;left: 50%;z-index: -1;}#sk-container-id-3 div.sk-parallel-item {display: flex;flex-direction: column;z-index: 1;position: relative;background-color: white;}#sk-container-id-3 div.sk-parallel-item:first-child::after {align-self: flex-end;width: 50%;}#sk-container-id-3 div.sk-parallel-item:last-child::after {align-self: flex-start;width: 50%;}#sk-container-id-3 div.sk-parallel-item:only-child::after {width: 0;}#sk-container-id-3 div.sk-dashed-wrapped {border: 1px dashed gray;margin: 0 0.4em 0.5em 0.4em;box-sizing: border-box;padding-bottom: 0.4em;background-color: white;}#sk-container-id-3 div.sk-label label {font-family: monospace;font-weight: bold;display: inline-block;line-height: 1.2em;}#sk-container-id-3 div.sk-label-container {text-align: center;}#sk-container-id-3 div.sk-container {/* jupyter's `normalize.less` sets `[hidden] { display: none; }` but bootstrap.min.css set `[hidden] { display: none !important; }` so we also need the `!important` here to be able to override the default hidden behavior on the sphinx rendered scikit-learn.org. See: https://github.com/scikit-learn/scikit-learn/issues/21755 */display: inline-block !important;position: relative;}#sk-container-id-3 div.sk-text-repr-fallback {display: none;}</style><div id=\"sk-container-id-3\" class=\"sk-top-container\"><div class=\"sk-text-repr-fallback\"><pre>GridSearchCV(estimator=MultinomialNB(), param_grid={&#x27;alpha&#x27;: [0.5, 0, 2]})</pre><b>In a Jupyter environment, please rerun this cell to show the HTML representation or trust the notebook. <br />On GitHub, the HTML representation is unable to render, please try loading this page with nbviewer.org.</b></div><div class=\"sk-container\" hidden><div class=\"sk-item sk-dashed-wrapped\"><div class=\"sk-label-container\"><div class=\"sk-label sk-toggleable\"><input class=\"sk-toggleable__control sk-hidden--visually\" id=\"sk-estimator-id-3\" type=\"checkbox\" ><label for=\"sk-estimator-id-3\" class=\"sk-toggleable__label sk-toggleable__label-arrow\">GridSearchCV</label><div class=\"sk-toggleable__content\"><pre>GridSearchCV(estimator=MultinomialNB(), param_grid={&#x27;alpha&#x27;: [0.5, 0, 2]})</pre></div></div></div><div class=\"sk-parallel\"><div class=\"sk-parallel-item\"><div class=\"sk-item\"><div class=\"sk-label-container\"><div class=\"sk-label sk-toggleable\"><input class=\"sk-toggleable__control sk-hidden--visually\" id=\"sk-estimator-id-4\" type=\"checkbox\" ><label for=\"sk-estimator-id-4\" class=\"sk-toggleable__label sk-toggleable__label-arrow\">estimator: MultinomialNB</label><div class=\"sk-toggleable__content\"><pre>MultinomialNB()</pre></div></div></div><div class=\"sk-serial\"><div class=\"sk-item\"><div class=\"sk-estimator sk-toggleable\"><input class=\"sk-toggleable__control sk-hidden--visually\" id=\"sk-estimator-id-5\" type=\"checkbox\" ><label for=\"sk-estimator-id-5\" class=\"sk-toggleable__label sk-toggleable__label-arrow\">MultinomialNB</label><div class=\"sk-toggleable__content\"><pre>MultinomialNB()</pre></div></div></div></div></div></div></div></div></div></div>"
      ],
      "text/plain": [
       "GridSearchCV(estimator=MultinomialNB(), param_grid={'alpha': [0.5, 0, 2]})"
      ]
     },
     "execution_count": 12,
     "metadata": {},
     "output_type": "execute_result"
    }
   ],
   "source": [
    "# Creating NB classifiers with optimized alpha hyper params (2.3.4)\n",
    "from sklearn.svm import SVC\n",
    "from sklearn.model_selection import GridSearchCV\n",
    "\n",
    "param_grid = {\"alpha\": [0.5, 0, 2]}\n",
    "\n",
    "mnb_classifer_emotions_new = MultinomialNB()\n",
    "top_mnb_classifer_emotions = GridSearchCV(mnb_classifer_emotions_new, param_grid)\n",
    "top_mnb_classifer_emotions.fit(X_training, y_training_emotions)\n",
    "\n",
    "mnb_classifer_sentiments_new = MultinomialNB()\n",
    "top_mnb_classifer_sentiments = GridSearchCV(mnb_classifer_sentiments_new, param_grid)\n",
    "top_mnb_classifer_sentiments.fit(X_training, y_training_emotions)"
   ]
  },
  {
   "cell_type": "code",
   "execution_count": 15,
   "metadata": {},
   "outputs": [
    {
     "name": "stdout",
     "output_type": "stream",
     "text": [
      "MultinomialNB(alpha=0.5)\n",
      "MultinomialNB(alpha=0.5)\n"
     ]
    }
   ],
   "source": [
    "print(top_mnb_classifer_emotions.best_estimator_)\n",
    "print(top_mnb_classifer_sentiments.best_estimator_)"
   ]
  },
  {
   "cell_type": "markdown",
   "metadata": {},
   "source": [
    "# 2.3.5 Top-DT"
   ]
  },
  {
   "cell_type": "code",
   "execution_count": 17,
   "metadata": {},
   "outputs": [],
   "source": [
    "from sklearn import tree\n",
    "from sklearn.model_selection import GridSearchCV"
   ]
  },
  {
   "cell_type": "code",
   "execution_count": 18,
   "metadata": {
    "scrolled": true
   },
   "outputs": [
    {
     "name": "stdout",
     "output_type": "stream",
     "text": [
      "Fitting 5 folds for each of 12 candidates, totalling 60 fits\n",
      "[CV] END ...criterion=gini, max_depth=5, min_samples_split=2; total time=   3.5s\n",
      "[CV] END ...criterion=gini, max_depth=5, min_samples_split=2; total time=   3.5s\n",
      "[CV] END ...criterion=gini, max_depth=5, min_samples_split=2; total time=   3.5s\n",
      "[CV] END ...criterion=gini, max_depth=5, min_samples_split=2; total time=   3.5s\n",
      "[CV] END ...criterion=gini, max_depth=5, min_samples_split=2; total time=   3.5s\n",
      "[CV] END ...criterion=gini, max_depth=5, min_samples_split=5; total time=   3.5s\n",
      "[CV] END ...criterion=gini, max_depth=5, min_samples_split=5; total time=   3.5s\n",
      "[CV] END ...criterion=gini, max_depth=5, min_samples_split=5; total time=   3.5s\n",
      "[CV] END ...criterion=gini, max_depth=5, min_samples_split=5; total time=   3.5s\n",
      "[CV] END ...criterion=gini, max_depth=5, min_samples_split=5; total time=   3.5s\n",
      "[CV] END ..criterion=gini, max_depth=5, min_samples_split=10; total time=   3.5s\n",
      "[CV] END ..criterion=gini, max_depth=5, min_samples_split=10; total time=   3.6s\n",
      "[CV] END ..criterion=gini, max_depth=5, min_samples_split=10; total time=   3.5s\n",
      "[CV] END ..criterion=gini, max_depth=5, min_samples_split=10; total time=   3.4s\n",
      "[CV] END ..criterion=gini, max_depth=5, min_samples_split=10; total time=   3.5s\n",
      "[CV] END ..criterion=gini, max_depth=10, min_samples_split=2; total time=   4.0s\n",
      "[CV] END ..criterion=gini, max_depth=10, min_samples_split=2; total time=   3.9s\n",
      "[CV] END ..criterion=gini, max_depth=10, min_samples_split=2; total time=   3.9s\n",
      "[CV] END ..criterion=gini, max_depth=10, min_samples_split=2; total time=   4.0s\n",
      "[CV] END ..criterion=gini, max_depth=10, min_samples_split=2; total time=   4.0s\n",
      "[CV] END ..criterion=gini, max_depth=10, min_samples_split=5; total time=   4.0s\n",
      "[CV] END ..criterion=gini, max_depth=10, min_samples_split=5; total time=   4.0s\n",
      "[CV] END ..criterion=gini, max_depth=10, min_samples_split=5; total time=   4.0s\n",
      "[CV] END ..criterion=gini, max_depth=10, min_samples_split=5; total time=   4.0s\n",
      "[CV] END ..criterion=gini, max_depth=10, min_samples_split=5; total time=   4.1s\n",
      "[CV] END .criterion=gini, max_depth=10, min_samples_split=10; total time=   4.0s\n",
      "[CV] END .criterion=gini, max_depth=10, min_samples_split=10; total time=   4.0s\n",
      "[CV] END .criterion=gini, max_depth=10, min_samples_split=10; total time=   4.0s\n",
      "[CV] END .criterion=gini, max_depth=10, min_samples_split=10; total time=   4.0s\n",
      "[CV] END .criterion=gini, max_depth=10, min_samples_split=10; total time=   4.0s\n",
      "[CV] END criterion=entropy, max_depth=5, min_samples_split=2; total time=   3.6s\n",
      "[CV] END criterion=entropy, max_depth=5, min_samples_split=2; total time=   3.6s\n",
      "[CV] END criterion=entropy, max_depth=5, min_samples_split=2; total time=   3.6s\n",
      "[CV] END criterion=entropy, max_depth=5, min_samples_split=2; total time=   3.6s\n",
      "[CV] END criterion=entropy, max_depth=5, min_samples_split=2; total time=   3.6s\n",
      "[CV] END criterion=entropy, max_depth=5, min_samples_split=5; total time=   3.6s\n",
      "[CV] END criterion=entropy, max_depth=5, min_samples_split=5; total time=   3.6s\n",
      "[CV] END criterion=entropy, max_depth=5, min_samples_split=5; total time=   3.6s\n",
      "[CV] END criterion=entropy, max_depth=5, min_samples_split=5; total time=   3.6s\n",
      "[CV] END criterion=entropy, max_depth=5, min_samples_split=5; total time=   3.6s\n",
      "[CV] END criterion=entropy, max_depth=5, min_samples_split=10; total time=   3.6s\n",
      "[CV] END criterion=entropy, max_depth=5, min_samples_split=10; total time=   3.6s\n",
      "[CV] END criterion=entropy, max_depth=5, min_samples_split=10; total time=   3.6s\n",
      "[CV] END criterion=entropy, max_depth=5, min_samples_split=10; total time=   3.6s\n",
      "[CV] END criterion=entropy, max_depth=5, min_samples_split=10; total time=   3.6s\n",
      "[CV] END criterion=entropy, max_depth=10, min_samples_split=2; total time=   4.3s\n",
      "[CV] END criterion=entropy, max_depth=10, min_samples_split=2; total time=   4.4s\n",
      "[CV] END criterion=entropy, max_depth=10, min_samples_split=2; total time=   4.4s\n",
      "[CV] END criterion=entropy, max_depth=10, min_samples_split=2; total time=   4.4s\n",
      "[CV] END criterion=entropy, max_depth=10, min_samples_split=2; total time=   4.4s\n",
      "[CV] END criterion=entropy, max_depth=10, min_samples_split=5; total time=   4.3s\n",
      "[CV] END criterion=entropy, max_depth=10, min_samples_split=5; total time=   4.3s\n",
      "[CV] END criterion=entropy, max_depth=10, min_samples_split=5; total time=   4.3s\n",
      "[CV] END criterion=entropy, max_depth=10, min_samples_split=5; total time=   4.3s\n",
      "[CV] END criterion=entropy, max_depth=10, min_samples_split=5; total time=   4.3s\n",
      "[CV] END criterion=entropy, max_depth=10, min_samples_split=10; total time=   4.2s\n",
      "[CV] END criterion=entropy, max_depth=10, min_samples_split=10; total time=   4.2s\n",
      "[CV] END criterion=entropy, max_depth=10, min_samples_split=10; total time=   4.2s\n",
      "[CV] END criterion=entropy, max_depth=10, min_samples_split=10; total time=   4.2s\n",
      "[CV] END criterion=entropy, max_depth=10, min_samples_split=10; total time=   4.3s\n"
     ]
    },
    {
     "data": {
      "text/html": [
       "<style>#sk-container-id-4 {color: black;background-color: white;}#sk-container-id-4 pre{padding: 0;}#sk-container-id-4 div.sk-toggleable {background-color: white;}#sk-container-id-4 label.sk-toggleable__label {cursor: pointer;display: block;width: 100%;margin-bottom: 0;padding: 0.3em;box-sizing: border-box;text-align: center;}#sk-container-id-4 label.sk-toggleable__label-arrow:before {content: \"▸\";float: left;margin-right: 0.25em;color: #696969;}#sk-container-id-4 label.sk-toggleable__label-arrow:hover:before {color: black;}#sk-container-id-4 div.sk-estimator:hover label.sk-toggleable__label-arrow:before {color: black;}#sk-container-id-4 div.sk-toggleable__content {max-height: 0;max-width: 0;overflow: hidden;text-align: left;background-color: #f0f8ff;}#sk-container-id-4 div.sk-toggleable__content pre {margin: 0.2em;color: black;border-radius: 0.25em;background-color: #f0f8ff;}#sk-container-id-4 input.sk-toggleable__control:checked~div.sk-toggleable__content {max-height: 200px;max-width: 100%;overflow: auto;}#sk-container-id-4 input.sk-toggleable__control:checked~label.sk-toggleable__label-arrow:before {content: \"▾\";}#sk-container-id-4 div.sk-estimator input.sk-toggleable__control:checked~label.sk-toggleable__label {background-color: #d4ebff;}#sk-container-id-4 div.sk-label input.sk-toggleable__control:checked~label.sk-toggleable__label {background-color: #d4ebff;}#sk-container-id-4 input.sk-hidden--visually {border: 0;clip: rect(1px 1px 1px 1px);clip: rect(1px, 1px, 1px, 1px);height: 1px;margin: -1px;overflow: hidden;padding: 0;position: absolute;width: 1px;}#sk-container-id-4 div.sk-estimator {font-family: monospace;background-color: #f0f8ff;border: 1px dotted black;border-radius: 0.25em;box-sizing: border-box;margin-bottom: 0.5em;}#sk-container-id-4 div.sk-estimator:hover {background-color: #d4ebff;}#sk-container-id-4 div.sk-parallel-item::after {content: \"\";width: 100%;border-bottom: 1px solid gray;flex-grow: 1;}#sk-container-id-4 div.sk-label:hover label.sk-toggleable__label {background-color: #d4ebff;}#sk-container-id-4 div.sk-serial::before {content: \"\";position: absolute;border-left: 1px solid gray;box-sizing: border-box;top: 0;bottom: 0;left: 50%;z-index: 0;}#sk-container-id-4 div.sk-serial {display: flex;flex-direction: column;align-items: center;background-color: white;padding-right: 0.2em;padding-left: 0.2em;position: relative;}#sk-container-id-4 div.sk-item {position: relative;z-index: 1;}#sk-container-id-4 div.sk-parallel {display: flex;align-items: stretch;justify-content: center;background-color: white;position: relative;}#sk-container-id-4 div.sk-item::before, #sk-container-id-4 div.sk-parallel-item::before {content: \"\";position: absolute;border-left: 1px solid gray;box-sizing: border-box;top: 0;bottom: 0;left: 50%;z-index: -1;}#sk-container-id-4 div.sk-parallel-item {display: flex;flex-direction: column;z-index: 1;position: relative;background-color: white;}#sk-container-id-4 div.sk-parallel-item:first-child::after {align-self: flex-end;width: 50%;}#sk-container-id-4 div.sk-parallel-item:last-child::after {align-self: flex-start;width: 50%;}#sk-container-id-4 div.sk-parallel-item:only-child::after {width: 0;}#sk-container-id-4 div.sk-dashed-wrapped {border: 1px dashed gray;margin: 0 0.4em 0.5em 0.4em;box-sizing: border-box;padding-bottom: 0.4em;background-color: white;}#sk-container-id-4 div.sk-label label {font-family: monospace;font-weight: bold;display: inline-block;line-height: 1.2em;}#sk-container-id-4 div.sk-label-container {text-align: center;}#sk-container-id-4 div.sk-container {/* jupyter's `normalize.less` sets `[hidden] { display: none; }` but bootstrap.min.css set `[hidden] { display: none !important; }` so we also need the `!important` here to be able to override the default hidden behavior on the sphinx rendered scikit-learn.org. See: https://github.com/scikit-learn/scikit-learn/issues/21755 */display: inline-block !important;position: relative;}#sk-container-id-4 div.sk-text-repr-fallback {display: none;}</style><div id=\"sk-container-id-4\" class=\"sk-top-container\"><div class=\"sk-text-repr-fallback\"><pre>GridSearchCV(estimator=DecisionTreeClassifier(),\n",
       "             param_grid={&#x27;criterion&#x27;: [&#x27;gini&#x27;, &#x27;entropy&#x27;], &#x27;max_depth&#x27;: [5, 10],\n",
       "                         &#x27;min_samples_split&#x27;: [2, 5, 10]},\n",
       "             verbose=2)</pre><b>In a Jupyter environment, please rerun this cell to show the HTML representation or trust the notebook. <br />On GitHub, the HTML representation is unable to render, please try loading this page with nbviewer.org.</b></div><div class=\"sk-container\" hidden><div class=\"sk-item sk-dashed-wrapped\"><div class=\"sk-label-container\"><div class=\"sk-label sk-toggleable\"><input class=\"sk-toggleable__control sk-hidden--visually\" id=\"sk-estimator-id-6\" type=\"checkbox\" ><label for=\"sk-estimator-id-6\" class=\"sk-toggleable__label sk-toggleable__label-arrow\">GridSearchCV</label><div class=\"sk-toggleable__content\"><pre>GridSearchCV(estimator=DecisionTreeClassifier(),\n",
       "             param_grid={&#x27;criterion&#x27;: [&#x27;gini&#x27;, &#x27;entropy&#x27;], &#x27;max_depth&#x27;: [5, 10],\n",
       "                         &#x27;min_samples_split&#x27;: [2, 5, 10]},\n",
       "             verbose=2)</pre></div></div></div><div class=\"sk-parallel\"><div class=\"sk-parallel-item\"><div class=\"sk-item\"><div class=\"sk-label-container\"><div class=\"sk-label sk-toggleable\"><input class=\"sk-toggleable__control sk-hidden--visually\" id=\"sk-estimator-id-7\" type=\"checkbox\" ><label for=\"sk-estimator-id-7\" class=\"sk-toggleable__label sk-toggleable__label-arrow\">estimator: DecisionTreeClassifier</label><div class=\"sk-toggleable__content\"><pre>DecisionTreeClassifier()</pre></div></div></div><div class=\"sk-serial\"><div class=\"sk-item\"><div class=\"sk-estimator sk-toggleable\"><input class=\"sk-toggleable__control sk-hidden--visually\" id=\"sk-estimator-id-8\" type=\"checkbox\" ><label for=\"sk-estimator-id-8\" class=\"sk-toggleable__label sk-toggleable__label-arrow\">DecisionTreeClassifier</label><div class=\"sk-toggleable__content\"><pre>DecisionTreeClassifier()</pre></div></div></div></div></div></div></div></div></div></div>"
      ],
      "text/plain": [
       "GridSearchCV(estimator=DecisionTreeClassifier(),\n",
       "             param_grid={'criterion': ['gini', 'entropy'], 'max_depth': [5, 10],\n",
       "                         'min_samples_split': [2, 5, 10]},\n",
       "             verbose=2)"
      ]
     },
     "execution_count": 18,
     "metadata": {},
     "output_type": "execute_result"
    }
   ],
   "source": [
    "paramter_DT = {\"criterion\":[\"gini\",\"entropy\"],\"max_depth\":[5,10] , \"min_samples_split\":[2,5,10]}\n",
    "clf_DecisionT = tree.DecisionTreeClassifier()\n",
    "gsv_DT = GridSearchCV(clf_DecisionT, paramter_DT)\n",
    "\n",
    "gsv_DT.fit(X_training,y_training_emotions) "
   ]
  },
  {
   "cell_type": "markdown",
   "metadata": {},
   "source": [
    "# 2.4 Performance Metrics"
   ]
  },
  {
   "cell_type": "code",
   "execution_count": 27,
   "metadata": {},
   "outputs": [],
   "source": [
    "from sklearn.metrics import confusion_matrix\n",
    "from sklearn.metrics import classification_report"
   ]
  },
  {
   "cell_type": "markdown",
   "metadata": {},
   "source": [
    "## Base-MNB (2.3.1)"
   ]
  },
  {
   "cell_type": "code",
   "execution_count": 29,
   "metadata": {
    "collapsed": true
   },
   "outputs": [
    {
     "name": "stdout",
     "output_type": "stream",
     "text": [
      "[[ 929   18    0   12   30    3    1    3    0    2   10    1    0    7\n",
      "     0   44    0   13   42    0  949   10    0    4    0    0    1   10]\n",
      " [  43  360    4   16   18    0    1    1    2    1    7    0    0    4\n",
      "     0    6    0   14    8    0  704    3    0    2    0    0    0    4]\n",
      " [  15    5  113   76    6    4    2    5    0    6   25   12    0    1\n",
      "     0    6    0    1    1    0  714    2    0    2    0    1    1    1]\n",
      " [  25   25   51  119   35    5    6    7    0   10   27   11    0    1\n",
      "     0   18    0    1    2    0 1326    3    0    2    0    1    8    6]\n",
      " [ 124   15    6   29  220    4    7    4    3    4   31    3    0    2\n",
      "     1   15    0    4   14    0 1715   12    0   12    0    1    4    1]\n",
      " [  18    1    0    5   25   40    1    4    0    4    8    0    0    1\n",
      "     0   18    0    4    6    0  557   17    0    2    0    2    3    0]\n",
      " [   9    4    2   10   15    0   51   23    0    1   13    0    0    0\n",
      "     0    7    0    1    0    0  782    1    0    9    0    0    0    6]\n",
      " [  22    7    3    6   13    2   19  122    1    1    7    0    0    1\n",
      "     0    7    0    1    3    0  950    1    0    6    0    0    2    7]\n",
      " [  10    4    2    4    5    3    2    0   14    1    2    0    0    1\n",
      "     0    4    0    0    6    0  376   15    0    0    0    0    0    1]\n",
      " [  16    6    6   20   17    0    7    2    2   32   17    4    0    1\n",
      "     1    3    0    1    1    0  793    7    0    4    0    1    9    0]\n",
      " [  21   17   13   39   37    3    4    4    0    7  130    4    2    0\n",
      "     1    8    0    0    3    0 1281    2    0    4    0    1    2    2]\n",
      " [  18    3   24   32   18    1    2    1    1    4   12   55    2    0\n",
      "     0    1    0    0    2    0  436    4    0    1    0    1    3    1]\n",
      " [   6    4    3   14    3    0    2    2    0    3    5    0    1    1\n",
      "     0    1    0    1    4    0  225    1    0    2    0    2    2    1]\n",
      " [  52    5    5    2   15    1    1    4    0    0    2    1    0   26\n",
      "     2    6    0   41    8    0  411    6    0    1    0    0    0   11]\n",
      " [  11    4    1    5    9    2    1    2    0    2    2    3    1    1\n",
      "    13    2    0    0    0    0  295    2    0    2    0    0    3    3]\n",
      " [  90    6    0    4   11    5    0    2    1    3    3    0    0    2\n",
      "     0  947    0   15    2    0  300   10    0    2    0    2    3    1]\n",
      " [   1    2    0    1    1    1    1    1    0    1    1    0    0    0\n",
      "     0    0    0    0    0    0   59    0    0    0    0    0    6    0]\n",
      " [  75   46    0    2   20    5    0    2    2    0    1    0    0    8\n",
      "     1   36    0   99   29    0  553    9    0    2    0    0    0    2]\n",
      " [  90    8    1    1   16    1    0    0    0    0    2    0    0    2\n",
      "     0    9    0    9  321    0  487    1    0    1    0    1    0    2]\n",
      " [   2    0    0    6    5    0    1    0    0    1    5    0    0    0\n",
      "     0    1    0    0    0    0  122    1    0    1    0    0    1    1]\n",
      " [ 279  112  100  155  273   43   46   79   15   42  171   24    4   22\n",
      "     5   80    2   42   70    0 9331   42    3   39    0    2   34   30]\n",
      " [  35    2    2    4   24   10    2    0    2    0    6    1    0    1\n",
      "     0   12    0    3    3    0  658  111    0    1    0    0    0    0]\n",
      " [  26    0    1    3    4    0    0    1    0    1    0    0    0    1\n",
      "     0    5    0    2    0    0   95    2    0    2    0    0    0    0]\n",
      " [  15    8    4   19   26    0    3    4    1    2   13    0    0    1\n",
      "     0    5    0    7    2    0  813    7    0   27    0    0    0    3]\n",
      " [  11    1    0    2    7    2    0    1    0    0    0    0    0    1\n",
      "     0    8    0    1    0    0  108    1    0    1    0    0    0    0]\n",
      " [   1    1    2    4    5    2    2    0    0    2    3    1    0    0\n",
      "     0    8    0    0    1    0  236    0    0    2    0   14   19    0]\n",
      " [   4    5    4   10   11    6    2    3    1   10   10    1    0    1\n",
      "     0    8    0    3    4    0  635    4    0    2    0    6   71    4]\n",
      " [  45    9   10   12   13    3    1   14    0    2    9    2    0    5\n",
      "     1    4    0    3    3    0  531    0    0    5    0    0    1   48]]\n"
     ]
    },
    {
     "name": "stderr",
     "output_type": "stream",
     "text": [
      "/home/adrien/.local/lib/python3.8/site-packages/sklearn/metrics/_classification.py:1334: UndefinedMetricWarning: Precision and F-score are ill-defined and being set to 0.0 in labels with no predicted samples. Use `zero_division` parameter to control this behavior.\n",
      "  _warn_prf(average, modifier, msg_start, len(result))\n",
      "/home/adrien/.local/lib/python3.8/site-packages/sklearn/metrics/_classification.py:1334: UndefinedMetricWarning: Precision and F-score are ill-defined and being set to 0.0 in labels with no predicted samples. Use `zero_division` parameter to control this behavior.\n",
      "  _warn_prf(average, modifier, msg_start, len(result))\n"
     ]
    },
    {
     "name": "stdout",
     "output_type": "stream",
     "text": [
      "                precision    recall  f1-score   support\n",
      "\n",
      "    admiration       0.47      0.44      0.46      2089\n",
      "     amusement       0.53      0.30      0.38      1198\n",
      "         anger       0.32      0.11      0.17       999\n",
      "     annoyance       0.19      0.07      0.10      1689\n",
      "      approval       0.25      0.10      0.14      2231\n",
      "        caring       0.27      0.06      0.09       716\n",
      "     confusion       0.31      0.05      0.09       934\n",
      "     curiosity       0.42      0.10      0.17      1181\n",
      "        desire       0.31      0.03      0.06       450\n",
      "disappointment       0.23      0.03      0.06       950\n",
      "   disapproval       0.25      0.08      0.12      1585\n",
      "       disgust       0.45      0.09      0.15       622\n",
      " embarrassment       0.10      0.00      0.01       283\n",
      "    excitement       0.29      0.04      0.08       600\n",
      "          fear       0.52      0.04      0.07       364\n",
      "     gratitude       0.75      0.67      0.71      1409\n",
      "         grief       0.00      0.00      0.00        75\n",
      "           joy       0.37      0.11      0.17       892\n",
      "          love       0.60      0.34      0.43       952\n",
      "   nervousness       0.00      0.00      0.00       147\n",
      "       neutral       0.37      0.84      0.51     11045\n",
      "      optimism       0.41      0.13      0.19       877\n",
      "         pride       0.00      0.00      0.00       143\n",
      "   realization       0.20      0.03      0.05       960\n",
      "        relief       0.00      0.00      0.00       144\n",
      "       remorse       0.40      0.05      0.08       303\n",
      "       sadness       0.41      0.09      0.15       805\n",
      "      surprise       0.33      0.07      0.11       721\n",
      "\n",
      "      accuracy                           0.38     34364\n",
      "     macro avg       0.31      0.14      0.16     34364\n",
      "  weighted avg       0.36      0.38      0.31     34364\n",
      "\n"
     ]
    },
    {
     "name": "stderr",
     "output_type": "stream",
     "text": [
      "/home/adrien/.local/lib/python3.8/site-packages/sklearn/metrics/_classification.py:1334: UndefinedMetricWarning: Precision and F-score are ill-defined and being set to 0.0 in labels with no predicted samples. Use `zero_division` parameter to control this behavior.\n",
      "  _warn_prf(average, modifier, msg_start, len(result))\n"
     ]
    }
   ],
   "source": [
    "# Emotions\n",
    "mnb_classifer_emotions_results = mnb_classifer_emotions.predict(X_testing)\n",
    "print(confusion_matrix(y_testing_emotions, mnb_classifer_emotions_results))\n",
    "print(classification_report(y_testing_emotions, mnb_classifer_emotions_results))"
   ]
  },
  {
   "cell_type": "code",
   "execution_count": 30,
   "metadata": {
    "collapsed": true
   },
   "outputs": [
    {
     "name": "stdout",
     "output_type": "stream",
     "text": [
      "[[   0    0    0    0    0    0    0    0    0    0    0    0    0    0\n",
      "     0    0    0    0    0    0    0    0    0    0    0    0    0    0\n",
      "     0]\n",
      " [  91    0   28   19   47   67    5   74  163    2    6   42    2    0\n",
      "     7    1   23    0   12    8    0 3076    9    0    0   47    0    3\n",
      "    64]\n",
      " [   0    0    0    0    0    0    0    0    0    0    0    0    0    0\n",
      "     0    0    0    0    0    0    0    0    0    0    0    0    0    0\n",
      "     0]\n",
      " [   0    0    0    0    0    0    0    0    0    0    0    0    0    0\n",
      "     0    0    0    0    0    0    0    0    0    0    0    0    0    0\n",
      "     0]\n",
      " [   0    0    0    0    0    0    0    0    0    0    0    0    0    0\n",
      "     0    0    0    0    0    0    0    0    0    0    0    0    0    0\n",
      "     0]\n",
      " [   0    0    0    0    0    0    0    0    0    0    0    0    0    0\n",
      "     0    0    0    0    0    0    0    0    0    0    0    0    0    0\n",
      "     0]\n",
      " [   0    0    0    0    0    0    0    0    0    0    0    0    0    0\n",
      "     0    0    0    0    0    0    0    0    0    0    0    0    0    0\n",
      "     0]\n",
      " [   0    0    0    0    0    0    0    0    0    0    0    0    0    0\n",
      "     0    0    0    0    0    0    0    0    0    0    0    0    0    0\n",
      "     0]\n",
      " [   0    0    0    0    0    0    0    0    0    0    0    0    0    0\n",
      "     0    0    0    0    0    0    0    0    0    0    0    0    0    0\n",
      "     0]\n",
      " [   0    0    0    0    0    0    0    0    0    0    0    0    0    0\n",
      "     0    0    0    0    0    0    0    0    0    0    0    0    0    0\n",
      "     0]\n",
      " [   0    0    0    0    0    0    0    0    0    0    0    0    0    0\n",
      "     0    0    0    0    0    0    0    0    0    0    0    0    0    0\n",
      "     0]\n",
      " [   0    0    0    0    0    0    0    0    0    0    0    0    0    0\n",
      "     0    0    0    0    0    0    0    0    0    0    0    0    0    0\n",
      "     0]\n",
      " [   0    0    0    0    0    0    0    0    0    0    0    0    0    0\n",
      "     0    0    0    0    0    0    0    0    0    0    0    0    0    0\n",
      "     0]\n",
      " [   0    0    0    0    0    0    0    0    0    0    0    0    0    0\n",
      "     0    0    0    0    0    0    0    0    0    0    0    0    0    0\n",
      "     0]\n",
      " [   0    0    0    0    0    0    0    0    0    0    0    0    0    0\n",
      "     0    0    0    0    0    0    0    0    0    0    0    0    0    0\n",
      "     0]\n",
      " [   0    0    0    0    0    0    0    0    0    0    0    0    0    0\n",
      "     0    0    0    0    0    0    0    0    0    0    0    0    0    0\n",
      "     0]\n",
      " [   0    0    0    0    0    0    0    0    0    0    0    0    0    0\n",
      "     0    0    0    0    0    0    0    0    0    0    0    0    0    0\n",
      "     0]\n",
      " [   0    0    0    0    0    0    0    0    0    0    0    0    0    0\n",
      "     0    0    0    0    0    0    0    0    0    0    0    0    0    0\n",
      "     0]\n",
      " [   0    0    0    0    0    0    0    0    0    0    0    0    0    0\n",
      "     0    0    0    0    0    0    0    0    0    0    0    0    0    0\n",
      "     0]\n",
      " [   0    0    0    0    0    0    0    0    0    0    0    0    0    0\n",
      "     0    0    0    0    0    0    0    0    0    0    0    0    0    0\n",
      "     0]\n",
      " [ 120    0   72  217  326  147   24   30   27    4   78  237   91    6\n",
      "     6   15   56    0    7   18    0 6122   26    0    0   22   27  125\n",
      "    19]\n",
      " [ 279    0  112  100  155  273   43   46   79   15   42  171   24    4\n",
      "    22    5   80    2   42   70    0 9331   42    0    3   39    2   34\n",
      "    30]\n",
      " [   0    0    0    0    0    0    0    0    0    0    0    0    0    0\n",
      "     0    0    0    0    0    0    0    0    0    0    0    0    0    0\n",
      "     0]\n",
      " [1503    0  466   21   84  395   74   15   22   24   16   72    6    0\n",
      "    56    4 1110    0  205  439    0 6913  197    0    0   30    6   11\n",
      "    32]\n",
      " [   0    0    0    0    0    0    0    0    0    0    0    0    0    0\n",
      "     0    0    0    0    0    0    0    0    0    0    0    0    0    0\n",
      "     0]\n",
      " [   0    0    0    0    0    0    0    0    0    0    0    0    0    0\n",
      "     0    0    0    0    0    0    0    0    0    0    0    0    0    0\n",
      "     0]\n",
      " [   0    0    0    0    0    0    0    0    0    0    0    0    0    0\n",
      "     0    0    0    0    0    0    0    0    0    0    0    0    0    0\n",
      "     0]\n",
      " [   0    0    0    0    0    0    0    0    0    0    0    0    0    0\n",
      "     0    0    0    0    0    0    0    0    0    0    0    0    0    0\n",
      "     0]\n",
      " [   0    0    0    0    0    0    0    0    0    0    0    0    0    0\n",
      "     0    0    0    0    0    0    0    0    0    0    0    0    0    0\n",
      "     0]]\n",
      "              precision    recall  f1-score   support\n",
      "\n",
      "   ambiguous       0.42      0.25      0.31      3796\n",
      "    negative       0.54      0.53      0.53      7822\n",
      "     neutral       0.49      0.49      0.49     11045\n",
      "    positive       0.62      0.71      0.66     11701\n",
      "\n",
      "    accuracy                           0.55     34364\n",
      "   macro avg       0.52      0.49      0.50     34364\n",
      "weighted avg       0.54      0.55      0.54     34364\n",
      "\n"
     ]
    }
   ],
   "source": [
    "# Sentiments\n",
    "mnb_classifer_sentiments_results = mnb_classifer_sentiments.predict(X_testing)\n",
    "print(confusion_matrix(y_testing_sentiments, mnb_classifer_emotions_results))\n",
    "print(classification_report(y_testing_sentiments, mnb_classifer_sentiments_results))"
   ]
  },
  {
   "cell_type": "markdown",
   "metadata": {},
   "source": [
    "## Base-DT (2.3.2)"
   ]
  },
  {
   "cell_type": "code",
   "execution_count": 34,
   "metadata": {},
   "outputs": [
    {
     "name": "stdout",
     "output_type": "stream",
     "text": [
      "[[1175   46   12   54  116   16   11   18   16   14   24    6    3   48\n",
      "     3   63    2   54   74    1  256   37    8   15    2    0    1   14]\n",
      " [  67  685   18   43   52    4   14   10    3    6   16    9    1   18\n",
      "     3    5    0   50    8    1  148    8    1   11    0    5    3    9]\n",
      " [  32   24  351  142   35   13   27   18    3   31   42   33    7    5\n",
      "     2    1    1    3    4    1  191    4    0    8    2    4    9    6]\n",
      " [  47   79  205  396   97   30   45   44   14   77   93   47   16   15\n",
      "     3   13    1    9    7    4  391    6    0   21    1    4   14   10]\n",
      " [ 207   43   54  132  602   66   44   37   35   45   83   14   14   27\n",
      "     9   21    1   40   34    8  620   37    5   28    5    2    7   11]\n",
      " [  45   16   18   45   81  190    9   12   10   13   20    2    2    4\n",
      "     4   15    2    7   13    8  156   25    0    5    2    4    8    0]\n",
      " [  17   24   27   50   57    9  278  132    2   17   32    6    1    4\n",
      "     1    4    2    2    4    3  240    1    0    8    0    1    4    8]\n",
      " [  36   19   31   62   59   13  175  396    6   11   14    0    4   19\n",
      "     1    9    0    7    3    3  269    4    1    9    0    0    2   28]\n",
      " [  19   11    7   20   37   18    9   11  131   12   10    1    2    5\n",
      "     3    3    2    6   10    0   98   28    0    3    1    1    2    0]\n",
      " [  25   32   57  111   64   22   25   17   16  165   67   18    9    4\n",
      "     7    1    2    7    8    5  203   14    0   11    2   12   37    9]\n",
      " [  29   47  110  196  122   24   58   24   13   67  367   22   13    2\n",
      "     8    5    1    7    5    1  404   12    0   17    1    7   13   10]\n",
      " [  15   16   76   93   31    3   15    6    3   30   45  146   11    3\n",
      "    12    1    0    1    2    0  100    4    0    3    0    1    4    1]\n",
      " [   7   14   20   40   18    2    5    7    0   19   14   10   40    2\n",
      "     2    1    2    2    4    2   56    2    0    1    0    8    2    3]\n",
      " [  85   33   14   18   35    7   10   25    9    8   15    1    1  130\n",
      "     2    7    0   50   11    1  105    7    1    5    0    1    4   15]\n",
      " [  10    9   20   27   16    8    6    2    2   17   12   18    7    0\n",
      "   122    0    1    1    1    7   61    3    1    3    1    0    5    4]\n",
      " [ 129   13    7   20   25   19    1    3    4    8    5    0    1    7\n",
      "     0 1045    2   24    6    0   51   14    0    1    7   13    3    1]\n",
      " [   4    4    5    6    3    3    2    1    2    6    2    0    2    0\n",
      "     3    1    5    0    0    0   17    0    0    2    0    4    3    0]\n",
      " [ 111  108    4   20   63   21    4   10   18   10   11    2    3   51\n",
      "     5   36    1  213   50    0  126    6    2    6    6    0    1    4]\n",
      " [ 142   25    8   14   49   19    9    7   20    5   10    3    0   17\n",
      "     2   11    0   45  467    0   82    7    0    4    0    1    3    2]\n",
      " [   3    4    8   17   11    7    5    3    2   11    5    4    2    1\n",
      "     8    1    0    1    0   14   34    0    0    0    0    1    2    3]\n",
      " [ 531  312  441  654 1103  243  398  380  147  299  533  121   54  143\n",
      "    70   74   11  170  128   35 4794   99    9  108   16   22   72   78]\n",
      " [  59   14   17   42   90   39   19   17   38   15   33    5    5   18\n",
      "     5   21    0   15    9    1  214  186    2    5    2    1    4    1]\n",
      " [  34    1    3    4   17    3    5    1    0    4    2    1    0    2\n",
      "     0    4    1    6    2    1   38    6    6    1    1    0    0    0]\n",
      " [  38   32   29   64  113   13   35   18   12   37   62    8    3    7\n",
      "     4    7    1   10    7    3  345    8    1   73    1    7    4   18]\n",
      " [  12    2    1    5   31    7    1    1    2    1    2    1    1    2\n",
      "     2    9    0   15    0    0   30    1    0    1   14    0    1    2]\n",
      " [   2    4    5   13    7   15    8    2    2   20   18    4   14    0\n",
      "     1   15    2    0    3    2   45    1    0    6    1   81   31    1]\n",
      " [  15   12   30   57   50   37   10   11    8   91   36   15    7    3\n",
      "     8    7    7    6    7   11  179    2    1   10    0   34  148    3]\n",
      " [  65   32   25   42   41    2   41   28    1   16   22   10    6   31\n",
      "     5    5    4   13    3    3  162    5    0   20    0    1    3  135]]\n",
      "                precision    recall  f1-score   support\n",
      "\n",
      "    admiration       0.40      0.56      0.47      2089\n",
      "     amusement       0.41      0.57      0.48      1198\n",
      "         anger       0.22      0.35      0.27       999\n",
      "     annoyance       0.17      0.23      0.19      1689\n",
      "      approval       0.20      0.27      0.23      2231\n",
      "        caring       0.22      0.27      0.24       716\n",
      "     confusion       0.22      0.30      0.25       934\n",
      "     curiosity       0.32      0.34      0.33      1181\n",
      "        desire       0.25      0.29      0.27       450\n",
      "disappointment       0.16      0.17      0.16       950\n",
      "   disapproval       0.23      0.23      0.23      1585\n",
      "       disgust       0.29      0.23      0.26       622\n",
      " embarrassment       0.17      0.14      0.16       283\n",
      "    excitement       0.23      0.22      0.22       600\n",
      "          fear       0.41      0.34      0.37       364\n",
      "     gratitude       0.75      0.74      0.75      1409\n",
      "         grief       0.10      0.07      0.08        75\n",
      "           joy       0.28      0.24      0.26       892\n",
      "          love       0.54      0.49      0.51       952\n",
      "   nervousness       0.12      0.10      0.11       147\n",
      "       neutral       0.51      0.43      0.47     11045\n",
      "      optimism       0.35      0.21      0.26       877\n",
      "         pride       0.16      0.04      0.07       143\n",
      "   realization       0.19      0.08      0.11       960\n",
      "        relief       0.22      0.10      0.13       144\n",
      "       remorse       0.38      0.27      0.31       303\n",
      "       sadness       0.38      0.18      0.25       805\n",
      "      surprise       0.36      0.19      0.25       721\n",
      "\n",
      "      accuracy                           0.36     34364\n",
      "     macro avg       0.29      0.27      0.27     34364\n",
      "  weighted avg       0.37      0.36      0.36     34364\n",
      "\n"
     ]
    }
   ],
   "source": [
    "# Emotions\n",
    "dt_classifer_emotions_results = dt_classifer_emotions.predict(X_testing)\n",
    "print(confusion_matrix(y_testing_emotions, dt_classifer_emotions_results))\n",
    "print(classification_report(y_testing_emotions, dt_classifer_emotions_results))"
   ]
  },
  {
   "cell_type": "code",
   "execution_count": 35,
   "metadata": {},
   "outputs": [
    {
     "name": "stdout",
     "output_type": "stream",
     "text": [
      "[[   0    0    0    0    0    0    0    0    0    0    0    0    0    0\n",
      "     0    0    0    0    0    0    0    0    0    0    0    0    0    0\n",
      "     0    0    0]\n",
      " [ 156    0  107  112  218  270   37  529  574   21   81  130   24   14\n",
      "    61   11   25    7   32   17    0   12 1016   18    0    2  110    1\n",
      "     9   13  189]\n",
      " [   0    0    0    0    0    0    0    0    0    0    0    0    0    0\n",
      "     0    0    0    0    0    0    0    0    0    0    0    0    0    0\n",
      "     0    0    0]\n",
      " [   0    0    0    0    0    0    0    0    0    0    0    0    0    0\n",
      "     0    0    0    0    0    0    0    0    0    0    0    0    0    0\n",
      "     0    0    0]\n",
      " [   0    0    0    0    0    0    0    0    0    0    0    0    0    0\n",
      "     0    0    0    0    0    0    0    0    0    0    0    0    0    0\n",
      "     0    0    0]\n",
      " [   0    0    0    0    0    0    0    0    0    0    0    0    0    0\n",
      "     0    0    0    0    0    0    0    0    0    0    0    0    0    0\n",
      "     0    0    0]\n",
      " [   0    0    0    0    0    0    0    0    0    0    0    0    0    0\n",
      "     0    0    0    0    0    0    0    0    0    0    0    0    0    0\n",
      "     0    0    0]\n",
      " [   0    0    0    0    0    0    0    0    0    0    0    0    0    0\n",
      "     0    0    0    0    0    0    0    0    0    0    0    0    0    0\n",
      "     0    0    0]\n",
      " [   0    0    0    0    0    0    0    0    0    0    0    0    0    0\n",
      "     0    0    0    0    0    0    0    0    0    0    0    0    0    0\n",
      "     0    0    0]\n",
      " [   0    0    0    0    0    0    0    0    0    0    0    0    0    0\n",
      "     0    0    0    0    0    0    0    0    0    0    0    0    0    0\n",
      "     0    0    0]\n",
      " [   0    0    0    0    0    0    0    0    0    0    0    0    0    0\n",
      "     0    0    0    0    0    0    0    0    0    0    0    0    0    0\n",
      "     0    0    0]\n",
      " [   0    0    0    0    0    0    0    0    0    0    0    0    0    0\n",
      "     0    0    0    0    0    0    0    0    0    0    0    0    0    0\n",
      "     0    0    0]\n",
      " [   0    0    0    0    0    0    0    0    0    0    0    0    0    0\n",
      "     0    0    0    0    0    0    0    0    0    0    0    0    0    0\n",
      "     0    0    0]\n",
      " [   0    0    0    0    0    0    0    0    0    0    0    0    0    0\n",
      "     0    0    0    0    0    0    0    0    0    0    0    0    0    0\n",
      "     0    0    0]\n",
      " [   0    0    0    0    0    0    0    0    0    0    0    0    0    0\n",
      "     0    0    0    0    0    0    0    0    0    0    0    0    0    0\n",
      "     0    0    0]\n",
      " [   0    0    0    0    0    0    0    0    0    0    0    0    0    0\n",
      "     0    0    0    0    0    0    0    0    0    0    0    0    0    0\n",
      "     0    0    0]\n",
      " [   0    0    0    0    0    0    0    0    0    0    0    0    0    0\n",
      "     0    0    0    0    0    0    0    0    0    0    0    0    0    0\n",
      "     0    0    0]\n",
      " [   0    0    0    0    0    0    0    0    0    0    0    0    0    0\n",
      "     0    0    0    0    0    0    0    0    0    0    0    0    0    0\n",
      "     0    0    0]\n",
      " [   0    0    0    0    0    0    0    0    0    0    0    0    0    0\n",
      "     0    0    0    0    0    0    0    0    0    0    0    0    0    0\n",
      "     0    0    0]\n",
      " [   0    0    0    0    0    0    0    0    0    0    0    0    0    0\n",
      "     0    0    0    0    0    0    0    0    0    0    0    0    0    0\n",
      "     0    0    0]\n",
      " [ 189    0  245  887 1098  454  164  206  135   65  534  701  317  128\n",
      "    35  176   46   22   37   41    0   47 1681   48    0    2   82    8\n",
      "   156  268   50]\n",
      " [   0    0    0    0    0    0    0    0    0    0    0    0    0    0\n",
      "     0    0    0    0    0    0    0    0    0    0    0    0    0    0\n",
      "     0    0    0]\n",
      " [ 531    0  312  441  654 1103  243  398  380  147  299  533  121   54\n",
      "   143   70   74   11  170  128    0   35 4794   99    0    9  108   16\n",
      "    22   72   78]\n",
      " [   0    0    0    0    0    0    0    0    0    0    0    0    0    0\n",
      "     0    0    0    0    0    0    0    0    0    0    0    0    0    0\n",
      "     0    0    0]\n",
      " [2085    0  997  163  417 1198  409  136  152  286  141  231   45   33\n",
      "   329   38 1240   11  525  684    0   21 1924  362    0   25   85   40\n",
      "    28   37   59]\n",
      " [   0    0    0    0    0    0    0    0    0    0    0    0    0    0\n",
      "     0    0    0    0    0    0    0    0    0    0    0    0    0    0\n",
      "     0    0    0]\n",
      " [   0    0    0    0    0    0    0    0    0    0    0    0    0    0\n",
      "     0    0    0    0    0    0    0    0    0    0    0    0    0    0\n",
      "     0    0    0]\n",
      " [   0    0    0    0    0    0    0    0    0    0    0    0    0    0\n",
      "     0    0    0    0    0    0    0    0    0    0    0    0    0    0\n",
      "     0    0    0]\n",
      " [   0    0    0    0    0    0    0    0    0    0    0    0    0    0\n",
      "     0    0    0    0    0    0    0    0    0    0    0    0    0    0\n",
      "     0    0    0]\n",
      " [   0    0    0    0    0    0    0    0    0    0    0    0    0    0\n",
      "     0    0    0    0    0    0    0    0    0    0    0    0    0    0\n",
      "     0    0    0]\n",
      " [   0    0    0    0    0    0    0    0    0    0    0    0    0    0\n",
      "     0    0    0    0    0    0    0    0    0    0    0    0    0    0\n",
      "     0    0    0]]\n",
      "              precision    recall  f1-score   support\n",
      "\n",
      "   ambiguous       0.35      0.47      0.40      3796\n",
      "    negative       0.51      0.59      0.55      7822\n",
      "     neutral       0.51      0.47      0.49     11045\n",
      "    positive       0.70      0.60      0.65     11701\n",
      "\n",
      "    accuracy                           0.54     34364\n",
      "   macro avg       0.52      0.53      0.52     34364\n",
      "weighted avg       0.56      0.54      0.55     34364\n",
      "\n"
     ]
    }
   ],
   "source": [
    "# Sentiments\n",
    "dt_classifer_sentiments_results = dt_classifer_sentiments.predict(X_testing)\n",
    "print(confusion_matrix(y_testing_sentiments, dt_classifer_emotions_results))\n",
    "print(classification_report(y_testing_sentiments, dt_classifer_sentiments_results))"
   ]
  },
  {
   "cell_type": "markdown",
   "metadata": {},
   "source": [
    "## Top-MNB (2.3.4)"
   ]
  },
  {
   "cell_type": "code",
   "execution_count": null,
   "metadata": {},
   "outputs": [],
   "source": []
  },
  {
   "cell_type": "code",
   "execution_count": null,
   "metadata": {},
   "outputs": [],
   "source": []
  },
  {
   "cell_type": "markdown",
   "metadata": {},
   "source": [
    "## Top-DT (2.3.5)"
   ]
  },
  {
   "cell_type": "code",
   "execution_count": null,
   "metadata": {},
   "outputs": [],
   "source": []
  },
  {
   "cell_type": "code",
   "execution_count": null,
   "metadata": {},
   "outputs": [],
   "source": []
  },
  {
   "cell_type": "code",
   "execution_count": null,
   "metadata": {},
   "outputs": [],
   "source": []
  }
 ],
 "metadata": {
  "kernelspec": {
   "display_name": "Python 3",
   "language": "python",
   "name": "python3"
  },
  "language_info": {
   "codemirror_mode": {
    "name": "ipython",
    "version": 3
   },
   "file_extension": ".py",
   "mimetype": "text/x-python",
   "name": "python",
   "nbconvert_exporter": "python",
   "pygments_lexer": "ipython3",
   "version": "3.8.10"
  }
 },
 "nbformat": 4,
 "nbformat_minor": 5
}
